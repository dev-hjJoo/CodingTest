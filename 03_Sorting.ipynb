{
 "cells": [
  {
   "cell_type": "markdown",
   "id": "545b0eaf-e58b-4270-bc11-8b1585c68617",
   "metadata": {},
   "source": [
    "# 1. Selection Sort\n",
    "* 시간 복잡도: O(n^2)\n",
    "* 정렬 방식: 가장 작은 값을 선택하여 해당 위치의 값과 교체(swap)하는 과정을 반복\n",
    "* 특징: 배열의 최소값을 찾는 알고리즘을 구현할 수 있다면 누구나 쉽게 구현할 수 있음!"
   ]
  },
  {
   "cell_type": "code",
   "execution_count": 2,
   "id": "d6448571-bebd-4d38-8d49-44134ceeed0a",
   "metadata": {},
   "outputs": [],
   "source": [
    "arr = [17, 5, 9, 0, 3, 1, 6, 2, 4, 8]"
   ]
  },
  {
   "cell_type": "code",
   "execution_count": null,
   "id": "3dbd9880-ab9f-425c-b00a-89bd952941ee",
   "metadata": {},
   "outputs": [],
   "source": [
    "for i in range(len(arr)):\n",
    "    \n",
    "    min_index = i\n",
    "    min_value = arr[i]\n",
    "    for j in range(i+1, len(arr)):\n",
    "        if arr[j] < min_value:\n",
    "            min_value = arr[j]\n",
    "            min_index = j\n",
    "    \n",
    "    # swap\n",
    "    arr[i], arr[j] = \n",
    "    "
   ]
  }
 ],
 "metadata": {
  "kernelspec": {
   "display_name": "Python 3 (ipykernel)",
   "language": "python",
   "name": "python3"
  },
  "language_info": {
   "codemirror_mode": {
    "name": "ipython",
    "version": 3
   },
   "file_extension": ".py",
   "mimetype": "text/x-python",
   "name": "python",
   "nbconvert_exporter": "python",
   "pygments_lexer": "ipython3",
   "version": "3.9.13"
  }
 },
 "nbformat": 4,
 "nbformat_minor": 5
}

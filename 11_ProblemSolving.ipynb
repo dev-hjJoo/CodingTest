{
 "cells": [
  {
   "cell_type": "markdown",
   "id": "d3296c0e-0960-417b-9898-e991a1763434",
   "metadata": {},
   "source": [
    "### 1. [소수 구하기](https://www.acmicpc.net/problem/1929)"
   ]
  },
  {
   "cell_type": "code",
   "execution_count": 1,
   "id": "d9e685eb-402a-402a-aa78-0bbcfb01fb0e",
   "metadata": {},
   "outputs": [
    {
     "name": "stdin",
     "output_type": "stream",
     "text": [
      " 3 16\n"
     ]
    },
    {
     "name": "stdout",
     "output_type": "stream",
     "text": [
      "3\n",
      "5\n",
      "7\n",
      "11\n",
      "13\n"
     ]
    }
   ],
   "source": [
    "'''\n",
    "- 풀이 방법: 입력 값이 최대 100만까지 올 수 있으므로 값의 범위를 제곱까지만 고려하여 효율성을 고려하기\n",
    "- 풀이 순서\n",
    "1. m 이상 n 이하의 수 x에 대해서 소수 여부를 판단할 변수 isPrime을 정의한다.\n",
    "2. 이 때, isPrime이 1이면 소수가 아니므로 항상 False 값을 할당하고, 그 외에는 True를 할당한다. \n",
    "3. 2부터 x의 제곱근까지의 숫자를 순회하면서 x를 나누었을 때 나누어 떨어질 경우 isPrime을 False로 바꾼다. -> O(n ・ n^0.5)\n",
    "4. 만약 위 반복문 종료 후 isPrime이 여전히 True인 경우 x를 출력한다.\n",
    "\n",
    "-> 최종 시간 복잡도: O(n ・ n^0.5)\n",
    "'''\n",
    "m, n = map(int, input().split())\n",
    "\n",
    "for x in range(m, n+1):\n",
    "    isPrime = True if x != 1 else False\n",
    "    for i in range(2, int(x**0.5)+1):\n",
    "        if x % i == 0: isPrime = False\n",
    "    if isPrime: print(x)"
   ]
  },
  {
   "cell_type": "markdown",
   "id": "7bd78947-99e7-4bd7-ab90-d0b6afa85ec3",
   "metadata": {},
   "source": [
    "### 2. [피보나치 비스무리한 수열](https://www.acmicpc.net/problem/14495)"
   ]
  },
  {
   "cell_type": "code",
   "execution_count": 2,
   "id": "22fac644-5a0f-4901-a5a9-8272e176ac34",
   "metadata": {},
   "outputs": [
    {
     "name": "stdin",
     "output_type": "stream",
     "text": [
      " 10\n"
     ]
    },
    {
     "name": "stdout",
     "output_type": "stream",
     "text": [
      "19\n"
     ]
    }
   ],
   "source": [
    "'''\n",
    "- 풀이 방법: 입력 값의 범위가 크지 않아 빠르고 가독성 좋게 푸는 것이 Best\n",
    "- 풀이 순서\n",
    "1. 이전 값을 배열에 넣어 둔다. -> O(1)\n",
    "2. 4번째 값부터 n번째 값까지 순차적으로 값을 구한다 -> O(n)\n",
    "3. 마지막 값을 출력한다. -> O(1)\n",
    "\n",
    "-> 최종 시간 복잡도: O(n)\n",
    "'''\n",
    "n = int(input())\n",
    "\n",
    "answer = [0, 1, 1, 1]\n",
    "\n",
    "for i in range(4, n+1):\n",
    "    answer.append(answer[i-3]+answer[i-1])\n",
    "\n",
    "print(answer[-1])"
   ]
  },
  {
   "cell_type": "markdown",
   "id": "0d55a2da-7306-49ac-abba-188acad00eb8",
   "metadata": {},
   "source": [
    "### 3. [바탕화면 정리](https://school.programmers.co.kr/learn/courses/30/lessons/161990#)"
   ]
  },
  {
   "cell_type": "code",
   "execution_count": 3,
   "id": "efc9bd59-f89b-43a4-aab7-69a0d0cb1746",
   "metadata": {},
   "outputs": [],
   "source": [
    "'''\n",
    "- 풀이 방법: 입력 값의 범위가 최대 2500번밖에 돌지 않으므로 이 문제도 가독성 좋게 푸는 것이 BEST!\n",
    "- 풀이 순서\n",
    "1. 파일이 있는 위치를 확인하면서, -> O(n^2)\n",
    "1-1. 가장 작은 값을 갖는(x는 왼쪽, y는 위쪽) 좌표를 찾아 시작점으로 지정한다.\n",
    "1-2. 가장 큰 값을 갖는(x는 오른쪽, y는 아래쪽) 좌표를 찾아 끝점으로 지정한다.\n",
    "2. 끝점의 좌표에 있는 파일도 포함해야 하므로 (x, y) 좌표에 각각 +1을 해준다. -> O(1)\n",
    "\n",
    "-> 최종 시간 복잡도: O(n^2) - 이중반복문\n",
    "'''\n",
    "def solution(wallpaper):\n",
    "    answer = [len(wallpaper), len(wallpaper[0]), -1, -1]\n",
    "    \n",
    "    for x, line in enumerate(wallpaper):\n",
    "        for y, pos in enumerate(line):\n",
    "            if pos == '#': \n",
    "                if answer[0] > x: answer[0] = x\n",
    "                if answer[1] > y: answer[1] = y\n",
    "                if answer[2] < x: answer[2] = x\n",
    "                if answer[3] < y: answer[3] = y\n",
    "    \n",
    "    answer[2] = answer[2] + 1\n",
    "    answer[3] = answer[3] + 1\n",
    "    return answer"
   ]
  },
  {
   "cell_type": "markdown",
   "id": "add112df-6b98-40d0-89fe-0eb5c4baafec",
   "metadata": {},
   "source": [
    "### 4. [안전 영역](https://www.acmicpc.net/problem/2468)"
   ]
  },
  {
   "cell_type": "code",
   "execution_count": 4,
   "id": "f7a733c7-0772-405b-99d5-0b99577e5e5c",
   "metadata": {},
   "outputs": [
    {
     "name": "stdin",
     "output_type": "stream",
     "text": [
      " 5\n",
      " 6 8 2 6 2\n",
      " 3 2 3 4 6\n",
      " 6 7 3 3 2\n",
      " 7 2 5 3 6\n",
      " 8 9 5 2 7\n"
     ]
    },
    {
     "name": "stdout",
     "output_type": "stream",
     "text": [
      "5\n"
     ]
    }
   ],
   "source": [
    "'''\n",
    "- 풀이 방법: DFS, 시뮬레이션 - 높이별 최대 몇 개의 영역이 생성되는 지 구하기\n",
    "- 풀이 순서\n",
    "1. 각각의 높이별로 DFS 알고리즘을 적용한다. -> O(k)\n",
    "2. DFS 알고리즘은 전체 좌표를 돌면서 DFS 함수를 호출한다. -> O(n^2)\n",
    "3. 각각의 DFS 함수는 인접 노드에 대해 추가로 DFS 함수를 호출한다 -> O(?)\n",
    "\n",
    "- 특이 사항: DFS로 백준에 제출했더니 RecursionError가 발생했다!\n",
    "'''\n",
    "import sys\n",
    "sys.setrecursionlimit(10**6)\n",
    "\n",
    "# 1. 값 입력 받기\n",
    "n = int(input())\n",
    "arr = [list(map(int, input().split())) for _ in range(n)]\n",
    "\n",
    "# 2. 가능한 높이 옵션 추출\n",
    "height_info = set(sum(arr, []))\n",
    "directions = [[-1, 0], [0, -1], [1, 0], [0, 1]]\n",
    "\n",
    "# 3. dfs 함수 정의\n",
    "def dfs(x, y, limit, visited):\n",
    "    # 방문 처리\n",
    "    visited[x][y] = True \n",
    "    # 상하좌우 4방향 확인\n",
    "    for dx, dy in directions:\n",
    "        nx, ny = x+dx, y+dy\n",
    "        # 예외 조건 미리 확인\n",
    "        if nx>=0 and nx<n and ny>=0 and ny<n:\n",
    "            if not visited[nx][ny] and arr[x][y] > limit:\n",
    "                dfs(nx, ny, limit, visited)\n",
    "    return True\n",
    "\n",
    "\n",
    "max_answer = 1 # 물에 잠기지 않는 경우\n",
    "\n",
    "# 4. 높이 옵션 별 DFS 알고리즘 적용\n",
    "for height in height_info:\n",
    "    visited = [[False]*n for _ in range(n)]\n",
    "    answer = 0  \n",
    "    for i in range(n):\n",
    "        for j in range(n):\n",
    "            if arr[i][j]>height and not visited[i][j]:\n",
    "                if dfs(i, j, height, visited):\n",
    "                    answer += 1 # 개수 카운팅\n",
    "    # 높이 옵션 중 최대값 탐색\n",
    "    max_answer = max(max_answer, answer)\n",
    "\n",
    "print(max_answer)"
   ]
  },
  {
   "cell_type": "code",
   "execution_count": null,
   "id": "84485d09-669a-40c4-b9ae-136aa2120173",
   "metadata": {},
   "outputs": [],
   "source": []
  }
 ],
 "metadata": {
  "kernelspec": {
   "display_name": "Python 3 (ipykernel)",
   "language": "python",
   "name": "python3"
  },
  "language_info": {
   "codemirror_mode": {
    "name": "ipython",
    "version": 3
   },
   "file_extension": ".py",
   "mimetype": "text/x-python",
   "name": "python",
   "nbconvert_exporter": "python",
   "pygments_lexer": "ipython3",
   "version": "3.9.13"
  }
 },
 "nbformat": 4,
 "nbformat_minor": 5
}

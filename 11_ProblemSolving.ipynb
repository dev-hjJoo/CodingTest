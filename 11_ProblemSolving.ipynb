{
 "cells": [
  {
   "cell_type": "markdown",
   "id": "d3296c0e-0960-417b-9898-e991a1763434",
   "metadata": {},
   "source": [
    "### 1. [소수 구하기](https://www.acmicpc.net/problem/1929)"
   ]
  },
  {
   "cell_type": "code",
   "execution_count": 1,
   "id": "d9e685eb-402a-402a-aa78-0bbcfb01fb0e",
   "metadata": {},
   "outputs": [
    {
     "name": "stdin",
     "output_type": "stream",
     "text": [
      " 3 16\n"
     ]
    },
    {
     "name": "stdout",
     "output_type": "stream",
     "text": [
      "3\n",
      "5\n",
      "7\n",
      "11\n",
      "13\n"
     ]
    }
   ],
   "source": [
    "'''\n",
    "- 풀이 방법: 입력 값이 최대 100만까지 올 수 있으므로 값의 범위를 제곱까지만 고려하여 효율성을 고려하기\n",
    "- 풀이 순서\n",
    "1. m 이상 n 이하의 수 x에 대해서 소수 여부를 판단할 변수 isPrime을 정의한다.\n",
    "2. 이 때, isPrime이 1이면 소수가 아니므로 항상 False 값을 할당하고, 그 외에는 True를 할당한다. \n",
    "3. 2부터 x의 제곱근까지의 숫자를 순회하면서 x를 나누었을 때 나누어 떨어질 경우 isPrime을 False로 바꾼다. -> O(n ・ n^0.5)\n",
    "4. 만약 위 반복문 종료 후 isPrime이 여전히 True인 경우 x를 출력한다.\n",
    "\n",
    "-> 최종 시간 복잡도: O(n ・ n^0.5)\n",
    "'''\n",
    "m, n = map(int, input().split())\n",
    "\n",
    "for x in range(m, n+1):\n",
    "    isPrime = True if x != 1 else False\n",
    "    for i in range(2, int(x**0.5)+1):\n",
    "        if x % i == 0: isPrime = False\n",
    "    if isPrime: print(x)"
   ]
  },
  {
   "cell_type": "markdown",
   "id": "7bd78947-99e7-4bd7-ab90-d0b6afa85ec3",
   "metadata": {},
   "source": [
    "### 2. [피보나치 비스무리한 수열](https://www.acmicpc.net/problem/14495)"
   ]
  },
  {
   "cell_type": "code",
   "execution_count": 2,
   "id": "22fac644-5a0f-4901-a5a9-8272e176ac34",
   "metadata": {},
   "outputs": [
    {
     "name": "stdin",
     "output_type": "stream",
     "text": [
      " 10\n"
     ]
    },
    {
     "name": "stdout",
     "output_type": "stream",
     "text": [
      "19\n"
     ]
    }
   ],
   "source": [
    "'''\n",
    "- 풀이 방법: 입력 값의 범위가 크지 않아 빠르고 가독성 좋게 푸는 것이 Best\n",
    "- 풀이 순서\n",
    "1. 이전 값을 배열에 넣어 둔다. -> O(1)\n",
    "2. 4번째 값부터 n번째 값까지 순차적으로 값을 구한다 -> O(n)\n",
    "3. 마지막 값을 출력한다. -> O(1)\n",
    "\n",
    "-> 최종 시간 복잡도: O(n)\n",
    "'''\n",
    "n = int(input())\n",
    "\n",
    "answer = [0, 1, 1, 1]\n",
    "\n",
    "for i in range(4, n+1):\n",
    "    answer.append(answer[i-3]+answer[i-1])\n",
    "\n",
    "print(answer[-1])"
   ]
  },
  {
   "cell_type": "markdown",
   "id": "0d55a2da-7306-49ac-abba-188acad00eb8",
   "metadata": {},
   "source": [
    "### 3. [바탕화면 정리](https://school.programmers.co.kr/learn/courses/30/lessons/161990#)"
   ]
  },
  {
   "cell_type": "code",
   "execution_count": 3,
   "id": "efc9bd59-f89b-43a4-aab7-69a0d0cb1746",
   "metadata": {},
   "outputs": [],
   "source": [
    "'''\n",
    "- 풀이 방법: 입력 값의 범위가 최대 2500번밖에 돌지 않으므로 이 문제도 가독성 좋게 푸는 것이 BEST!\n",
    "- 풀이 순서\n",
    "1. 파일이 있는 위치를 확인하면서, -> O(n^2)\n",
    "1-1. 가장 작은 값을 갖는(x는 왼쪽, y는 위쪽) 좌표를 찾아 시작점으로 지정한다.\n",
    "1-2. 가장 큰 값을 갖는(x는 오른쪽, y는 아래쪽) 좌표를 찾아 끝점으로 지정한다.\n",
    "2. 끝점의 좌표에 있는 파일도 포함해야 하므로 (x, y) 좌표에 각각 +1을 해준다. -> O(1)\n",
    "\n",
    "-> 최종 시간 복잡도: O(n^2) - 이중반복문\n",
    "'''\n",
    "def solution(wallpaper):\n",
    "    answer = [len(wallpaper), len(wallpaper[0]), -1, -1]\n",
    "    \n",
    "    for x, line in enumerate(wallpaper):\n",
    "        for y, pos in enumerate(line):\n",
    "            if pos == '#': \n",
    "                if answer[0] > x: answer[0] = x\n",
    "                if answer[1] > y: answer[1] = y\n",
    "                if answer[2] < x: answer[2] = x\n",
    "                if answer[3] < y: answer[3] = y\n",
    "    \n",
    "    answer[2] = answer[2] + 1\n",
    "    answer[3] = answer[3] + 1\n",
    "    return answer"
   ]
  },
  {
   "cell_type": "markdown",
   "id": "add112df-6b98-40d0-89fe-0eb5c4baafec",
   "metadata": {},
   "source": [
    "### 4. [안전 영역](https://www.acmicpc.net/problem/2468)"
   ]
  },
  {
   "cell_type": "code",
   "execution_count": 4,
   "id": "f7a733c7-0772-405b-99d5-0b99577e5e5c",
   "metadata": {},
   "outputs": [
    {
     "name": "stdin",
     "output_type": "stream",
     "text": [
      " 5\n",
      " 6 8 2 6 2\n",
      " 3 2 3 4 6\n",
      " 6 7 3 3 2\n",
      " 7 2 5 3 6\n",
      " 8 9 5 2 7\n"
     ]
    },
    {
     "name": "stdout",
     "output_type": "stream",
     "text": [
      "5\n"
     ]
    }
   ],
   "source": [
    "'''\n",
    "- 풀이 방법: DFS, 시뮬레이션 - 높이별 최대 몇 개의 영역이 생성되는 지 구하기\n",
    "- 풀이 순서\n",
    "1. 각각의 높이별로 DFS 알고리즘을 적용한다. -> O(k)\n",
    "2. DFS 알고리즘은 전체 좌표를 돌면서 DFS 함수를 호출한다. -> O(n^2)\n",
    "3. 각각의 DFS 함수는 인접 노드에 대해 추가로 DFS 함수를 호출한다 -> O(?)\n",
    "\n",
    "- 특이 사항: DFS로 백준에 제출했더니 RecursionError가 발생했다!\n",
    "'''\n",
    "import sys\n",
    "sys.setrecursionlimit(10**6)\n",
    "\n",
    "# 1. 값 입력 받기\n",
    "n = int(input())\n",
    "arr = [list(map(int, input().split())) for _ in range(n)]\n",
    "\n",
    "# 2. 가능한 높이 옵션 추출\n",
    "height_info = set(sum(arr, []))\n",
    "directions = [[-1, 0], [0, -1], [1, 0], [0, 1]]\n",
    "\n",
    "# 3. dfs 함수 정의\n",
    "def dfs(x, y, limit, visited):\n",
    "    # 방문 처리\n",
    "    visited[x][y] = True \n",
    "    # 상하좌우 4방향 확인\n",
    "    for dx, dy in directions:\n",
    "        nx, ny = x+dx, y+dy\n",
    "        # 예외 조건 미리 확인\n",
    "        if nx>=0 and nx<n and ny>=0 and ny<n:\n",
    "            if not visited[nx][ny] and arr[x][y] > limit:\n",
    "                dfs(nx, ny, limit, visited)\n",
    "    return True\n",
    "\n",
    "\n",
    "max_answer = 1 # 물에 잠기지 않는 경우\n",
    "\n",
    "# 4. 높이 옵션 별 DFS 알고리즘 적용\n",
    "for height in height_info:\n",
    "    visited = [[False]*n for _ in range(n)]\n",
    "    answer = 0  \n",
    "    for i in range(n):\n",
    "        for j in range(n):\n",
    "            if arr[i][j]>height and not visited[i][j]:\n",
    "                if dfs(i, j, height, visited):\n",
    "                    answer += 1 # 개수 카운팅\n",
    "    # 높이 옵션 중 최대값 탐색\n",
    "    max_answer = max(max_answer, answer)\n",
    "\n",
    "print(max_answer)"
   ]
  },
  {
   "cell_type": "markdown",
   "id": "0e99089d-6b50-4867-9099-29c592947fe9",
   "metadata": {},
   "source": [
    "### 5. [명령 프롬프트](https://www.acmicpc.net/problem/1032)"
   ]
  },
  {
   "cell_type": "code",
   "execution_count": 4,
   "id": "58d422d8-6fbf-4b54-a5c5-0758cb95c010",
   "metadata": {},
   "outputs": [
    {
     "name": "stdin",
     "output_type": "stream",
     "text": [
      " 2\n",
      " contest.txt\n",
      " context.txt\n"
     ]
    },
    {
     "name": "stdout",
     "output_type": "stream",
     "text": [
      "conte?t.txt\n"
     ]
    }
   ],
   "source": [
    "'''\n",
    "- 풀이 방법: 문자열의 길이가 같으므로 반복문을 이용해서 쉽게 비교할 수 있다.\n",
    "- 풀이 순서\n",
    "1. 첫 번째 문자열부터 마지막 문자열까지 순차 탐색한다. -> O(l)\n",
    "2. 반복문을 통해 1번 과정을 전체 파일 이름에 대해 동시에 실행한다. -> O(l*n)\n",
    "3. 첫 번째 파일 이름을 기준으로 전체 패턴 일치 여부를 판단한다. 만약 하나라도 불일치하면 불일치 체크 후 반복문을 중단한다.\n",
    "\n",
    "-> 이중 반복문을 사용하므로 O(n^2)이라고 볼 수 있다.\n",
    "'''\n",
    "\n",
    "n = int(input())\n",
    "file_names = [input() for _ in range(n)]\n",
    "\n",
    "answer = []\n",
    "for i in range(len(file_names[0])):\n",
    "    text = file_names[0][i] # 패턴 기준\n",
    "    flag = False  # 패턴 불일치 판단\n",
    "    for j in range(1, n):\n",
    "        if text != file_names[j][i]:\n",
    "            flag=True\n",
    "            break # 패턴 불일치 시 뒤의 배열은 더 이상 볼 필요 없음\n",
    "    if flag: answer.append('?')\n",
    "    else: answer.append(text)\n",
    "print(''.join(answer))"
   ]
  },
  {
   "cell_type": "markdown",
   "id": "4790725c-8c81-46cf-b7ef-6d871afaa4a8",
   "metadata": {},
   "source": [
    "### 6. [문자열 분석](https://www.acmicpc.net/problem/10820)"
   ]
  },
  {
   "cell_type": "code",
   "execution_count": 9,
   "id": "f0a0727c-faaa-4535-b8f4-ebfbe167ef17",
   "metadata": {
    "collapsed": true,
    "jupyter": {
     "outputs_hidden": true
    },
    "tags": []
   },
   "outputs": [
    {
     "name": "stdin",
     "output_type": "stream",
     "text": [
      " This is String\n"
     ]
    },
    {
     "name": "stdout",
     "output_type": "stream",
     "text": [
      "10 2 0 2\n"
     ]
    },
    {
     "name": "stdin",
     "output_type": "stream",
     "text": [
      " SPACE    1    SPACE\n"
     ]
    },
    {
     "name": "stdout",
     "output_type": "stream",
     "text": [
      "0 10 1 8\n"
     ]
    },
    {
     "name": "stdin",
     "output_type": "stream",
     "text": [
      "  S a M p L e I n P u T\n"
     ]
    },
    {
     "name": "stdout",
     "output_type": "stream",
     "text": [
      "5 6 0 11\n"
     ]
    },
    {
     "name": "stdin",
     "output_type": "stream",
     "text": [
      " 0L1A2S3T4L5I6N7E8\n"
     ]
    },
    {
     "name": "stdout",
     "output_type": "stream",
     "text": [
      "0 8 9 0\n"
     ]
    },
    {
     "ename": "KeyboardInterrupt",
     "evalue": "Interrupted by user",
     "output_type": "error",
     "traceback": [
      "\u001b[0;31m---------------------------------------------------------------------------\u001b[0m",
      "\u001b[0;31mKeyboardInterrupt\u001b[0m                         Traceback (most recent call last)",
      "\u001b[0;32m/var/folders/sr/yvrmbwt11q74d5gkg8r13rv00000gn/T/ipykernel_51948/38662210.py\u001b[0m in \u001b[0;36m<module>\u001b[0;34m\u001b[0m\n\u001b[1;32m     20\u001b[0m \u001b[0;32mwhile\u001b[0m \u001b[0;32mTrue\u001b[0m\u001b[0;34m:\u001b[0m\u001b[0;34m\u001b[0m\u001b[0;34m\u001b[0m\u001b[0m\n\u001b[1;32m     21\u001b[0m     \u001b[0;32mtry\u001b[0m\u001b[0;34m:\u001b[0m\u001b[0;34m\u001b[0m\u001b[0;34m\u001b[0m\u001b[0m\n\u001b[0;32m---> 22\u001b[0;31m         \u001b[0ms\u001b[0m \u001b[0;34m=\u001b[0m \u001b[0minput\u001b[0m\u001b[0;34m(\u001b[0m\u001b[0;34m)\u001b[0m\u001b[0;34m\u001b[0m\u001b[0;34m\u001b[0m\u001b[0m\n\u001b[0m\u001b[1;32m     23\u001b[0m         \u001b[0mprint_the_number_of_characters\u001b[0m\u001b[0;34m(\u001b[0m\u001b[0ms\u001b[0m\u001b[0;34m)\u001b[0m\u001b[0;34m\u001b[0m\u001b[0;34m\u001b[0m\u001b[0m\n\u001b[1;32m     24\u001b[0m \u001b[0;34m\u001b[0m\u001b[0m\n",
      "\u001b[0;32m/usr/local/anaconda3/lib/python3.9/site-packages/ipykernel/kernelbase.py\u001b[0m in \u001b[0;36mraw_input\u001b[0;34m(self, prompt)\u001b[0m\n\u001b[1;32m   1175\u001b[0m                 \u001b[0;34m\"raw_input was called, but this frontend does not support input requests.\"\u001b[0m\u001b[0;34m\u001b[0m\u001b[0;34m\u001b[0m\u001b[0m\n\u001b[1;32m   1176\u001b[0m             )\n\u001b[0;32m-> 1177\u001b[0;31m         return self._input_request(\n\u001b[0m\u001b[1;32m   1178\u001b[0m             \u001b[0mstr\u001b[0m\u001b[0;34m(\u001b[0m\u001b[0mprompt\u001b[0m\u001b[0;34m)\u001b[0m\u001b[0;34m,\u001b[0m\u001b[0;34m\u001b[0m\u001b[0;34m\u001b[0m\u001b[0m\n\u001b[1;32m   1179\u001b[0m             \u001b[0mself\u001b[0m\u001b[0;34m.\u001b[0m\u001b[0m_parent_ident\u001b[0m\u001b[0;34m[\u001b[0m\u001b[0;34m\"shell\"\u001b[0m\u001b[0;34m]\u001b[0m\u001b[0;34m,\u001b[0m\u001b[0;34m\u001b[0m\u001b[0;34m\u001b[0m\u001b[0m\n",
      "\u001b[0;32m/usr/local/anaconda3/lib/python3.9/site-packages/ipykernel/kernelbase.py\u001b[0m in \u001b[0;36m_input_request\u001b[0;34m(self, prompt, ident, parent, password)\u001b[0m\n\u001b[1;32m   1217\u001b[0m             \u001b[0;32mexcept\u001b[0m \u001b[0mKeyboardInterrupt\u001b[0m\u001b[0;34m:\u001b[0m\u001b[0;34m\u001b[0m\u001b[0;34m\u001b[0m\u001b[0m\n\u001b[1;32m   1218\u001b[0m                 \u001b[0;31m# re-raise KeyboardInterrupt, to truncate traceback\u001b[0m\u001b[0;34m\u001b[0m\u001b[0;34m\u001b[0m\u001b[0m\n\u001b[0;32m-> 1219\u001b[0;31m                 \u001b[0;32mraise\u001b[0m \u001b[0mKeyboardInterrupt\u001b[0m\u001b[0;34m(\u001b[0m\u001b[0;34m\"Interrupted by user\"\u001b[0m\u001b[0;34m)\u001b[0m \u001b[0;32mfrom\u001b[0m \u001b[0;32mNone\u001b[0m\u001b[0;34m\u001b[0m\u001b[0;34m\u001b[0m\u001b[0m\n\u001b[0m\u001b[1;32m   1220\u001b[0m             \u001b[0;32mexcept\u001b[0m \u001b[0mException\u001b[0m\u001b[0;34m:\u001b[0m\u001b[0;34m\u001b[0m\u001b[0;34m\u001b[0m\u001b[0m\n\u001b[1;32m   1221\u001b[0m                 \u001b[0mself\u001b[0m\u001b[0;34m.\u001b[0m\u001b[0mlog\u001b[0m\u001b[0;34m.\u001b[0m\u001b[0mwarning\u001b[0m\u001b[0;34m(\u001b[0m\u001b[0;34m\"Invalid Message:\"\u001b[0m\u001b[0;34m,\u001b[0m \u001b[0mexc_info\u001b[0m\u001b[0;34m=\u001b[0m\u001b[0;32mTrue\u001b[0m\u001b[0;34m)\u001b[0m\u001b[0;34m\u001b[0m\u001b[0;34m\u001b[0m\u001b[0m\n",
      "\u001b[0;31mKeyboardInterrupt\u001b[0m: Interrupted by user"
     ]
    }
   ],
   "source": [
    "'''\n",
    "- 풀이 방법: 입력 길이의 제한이 없으므로 While문과 try~except 문을 이용하여 푼다.\n",
    "- 풀이 순서\n",
    "1. 입력 받은 문자열을 순회하면서 각 조건에 맞을 때 카운팅한다 -> O(l)\n",
    "2. 입력이 종료될 때까지 반복한다 -> O(n)\n",
    "\n",
    "-> 이중 반복문을 사용하므로 O(n^2)이라고 볼 수 있다.\n",
    "'''\n",
    "\n",
    "def print_the_number_of_characters(s):\n",
    "    lower, upper, number, empty = 0, 0, 0, 0\n",
    "    \n",
    "    for c in s:\n",
    "        if 'a' <= c <= 'z': lower += 1\n",
    "        elif 'A' <= c <= 'Z': upper += 1\n",
    "        elif '0' <= c <= '9': number += 1\n",
    "        else: empty += 1\n",
    "    print(lower, upper, number, empty)\n",
    "    \n",
    "while True:\n",
    "    try:\n",
    "        s = input()\n",
    "        print_the_number_of_characters(s)\n",
    "    \n",
    "    except EOFError:\n",
    "        break"
   ]
  },
  {
   "cell_type": "markdown",
   "id": "ad2ce56f-8aa8-49f7-aa4f-88d0e11af896",
   "metadata": {},
   "source": [
    "### 7. [수열](https://www.acmicpc.net/problem/2559)"
   ]
  },
  {
   "cell_type": "code",
   "execution_count": 17,
   "id": "10e52eba-ee85-4db1-9f8e-6356d62e5ede",
   "metadata": {},
   "outputs": [
    {
     "name": "stdin",
     "output_type": "stream",
     "text": [
      " 10 5\n",
      " 3 -2 -4 -9 0 3 7 13 8 -3\n"
     ]
    },
    {
     "name": "stdout",
     "output_type": "stream",
     "text": [
      "31\n"
     ]
    }
   ],
   "source": [
    "'''\n",
    "- 풀이 방법: 두 개의 포인터를 이용하여 간격의 합을 구해준다.\n",
    "- 풀이 순서\n",
    "1. 배열을 순회하면서 합을 계속 갱신해준다. 그리고 그 값이 최대값인지 확인한다. -> O(n)\n",
    "2. 최종 최대값을 출력한다.\n",
    "\n",
    "-> 시간 복잡도는 O(n)이다\n",
    "'''\n",
    "n, k = map(int, input().split())\n",
    "tem_list = list(map(int, input().split()))\n",
    "\n",
    "max_tem = sum_tem = sum(tem_list[0:k])\n",
    "\n",
    "for i in range(1, n-k+1):\n",
    "    sum_tem = sum_tem - tem_list[i-1] + tem_list[i+k-1]\n",
    "    max_tem = max(sum_tem, max_tem)\n",
    "\n",
    "print(max_tem)"
   ]
  },
  {
   "cell_type": "markdown",
   "id": "93b7eac7-2514-4957-89a2-364e6b9b03d5",
   "metadata": {},
   "source": [
    "### 8. [!!초콜릿 중독 주의!!](https://www.acmicpc.net/problem/31458)"
   ]
  },
  {
   "cell_type": "code",
   "execution_count": 11,
   "id": "efca64b1-2fe8-44ad-92fc-fb43f7f0610e",
   "metadata": {},
   "outputs": [
    {
     "name": "stdin",
     "output_type": "stream",
     "text": [
      " 6\n",
      " 0!\n"
     ]
    },
    {
     "name": "stdout",
     "output_type": "stream",
     "text": [
      "1\n"
     ]
    },
    {
     "name": "stdin",
     "output_type": "stream",
     "text": [
      " 1!\n"
     ]
    },
    {
     "name": "stdout",
     "output_type": "stream",
     "text": [
      "1\n"
     ]
    },
    {
     "name": "stdin",
     "output_type": "stream",
     "text": [
      " !0\n"
     ]
    },
    {
     "name": "stdout",
     "output_type": "stream",
     "text": [
      "1\n"
     ]
    },
    {
     "name": "stdin",
     "output_type": "stream",
     "text": [
      " !1\n"
     ]
    },
    {
     "name": "stdout",
     "output_type": "stream",
     "text": [
      "0\n"
     ]
    },
    {
     "name": "stdin",
     "output_type": "stream",
     "text": [
      " !!0!!\n"
     ]
    },
    {
     "name": "stdout",
     "output_type": "stream",
     "text": [
      "1\n"
     ]
    },
    {
     "name": "stdin",
     "output_type": "stream",
     "text": [
      " !!1!!\n"
     ]
    },
    {
     "name": "stdout",
     "output_type": "stream",
     "text": [
      "1\n"
     ]
    }
   ],
   "source": [
    "'''\n",
    "- 풀이 방법: \n",
    "- 풀이 순서\n",
    "1. 배열을 순회하면서 합을 계속 갱신해준다. 그리고 그 값이 최대값인지 확인한다. -> O(n)\n",
    "2. 최종 최대값을 출력한다.\n",
    "\n",
    "-> 시간 복잡도는 O(n)이다\n",
    "'''\n",
    "def get_logical_not(v):\n",
    "    if v=='0': return '1'\n",
    "    return '0'\n",
    "\n",
    "t = int(input())\n",
    "\n",
    "for _ in range(t):\n",
    "    s = input()\n",
    "    answer = '0' if '0' in s else '1'\n",
    "    front, back = s.split('0') if '0' in s else s.split('1')  # -> O(n)\n",
    "    if len(back)>0: answer = '1' # factorial 연산이 있으면 무조건 1   -> O(1)\n",
    "    if len(front)%2!=0: answer = get_logical_not(answer) # 홀수개일때 전환 -> O(1)\n",
    "    \n",
    "    print(answer)"
   ]
  },
  {
   "cell_type": "code",
   "execution_count": 7,
   "id": "5933ad86-9a58-4ecf-96cb-cf243f6dbff2",
   "metadata": {},
   "outputs": [
    {
     "name": "stdin",
     "output_type": "stream",
     "text": [
      " !!!!!!!!1!!!!!!!!!!!\n"
     ]
    },
    {
     "name": "stdout",
     "output_type": "stream",
     "text": [
      "8 11\n"
     ]
    }
   ],
   "source": [
    "# 3 4 5 1 2\n",
    "s = input()\n",
    "s = s.split('0') if '0' in s else s.split('1')\n",
    "\n",
    "print(len(s[0]), len(s[1]))"
   ]
  },
  {
   "cell_type": "markdown",
   "id": "2692651a-f425-49c3-8274-5e04a667926e",
   "metadata": {},
   "source": [
    "### 9. [팰린드롬 만들기](https://www.acmicpc.net/problem/1213)"
   ]
  },
  {
   "cell_type": "code",
   "execution_count": 1,
   "id": "b2893d42-d8af-4c04-bf84-450d8aaf04d2",
   "metadata": {},
   "outputs": [
    {
     "name": "stdout",
     "output_type": "stream",
     "text": [
      "65\n"
     ]
    },
    {
     "ename": "KeyboardInterrupt",
     "evalue": "Interrupted by user",
     "output_type": "error",
     "traceback": [
      "\u001b[0;31m---------------------------------------------------------------------------\u001b[0m",
      "\u001b[0;31mKeyboardInterrupt\u001b[0m                         Traceback (most recent call last)",
      "\u001b[0;32m/var/folders/sr/yvrmbwt11q74d5gkg8r13rv00000gn/T/ipykernel_2129/344112987.py\u001b[0m in \u001b[0;36m<module>\u001b[0;34m\u001b[0m\n\u001b[1;32m     14\u001b[0m \u001b[0mnum_A\u001b[0m \u001b[0;34m=\u001b[0m \u001b[0mord\u001b[0m\u001b[0;34m(\u001b[0m\u001b[0;34m'A'\u001b[0m\u001b[0;34m)\u001b[0m\u001b[0;34m\u001b[0m\u001b[0;34m\u001b[0m\u001b[0m\n\u001b[1;32m     15\u001b[0m \u001b[0mprint\u001b[0m\u001b[0;34m(\u001b[0m\u001b[0mnum_A\u001b[0m\u001b[0;34m)\u001b[0m\u001b[0;34m\u001b[0m\u001b[0;34m\u001b[0m\u001b[0m\n\u001b[0;32m---> 16\u001b[0;31m \u001b[0ms\u001b[0m \u001b[0;34m=\u001b[0m \u001b[0minput\u001b[0m\u001b[0;34m(\u001b[0m\u001b[0;34m)\u001b[0m\u001b[0;34m\u001b[0m\u001b[0;34m\u001b[0m\u001b[0m\n\u001b[0m\u001b[1;32m     17\u001b[0m \u001b[0malphabets\u001b[0m \u001b[0;34m=\u001b[0m \u001b[0;34m[\u001b[0m\u001b[0;36m0\u001b[0m\u001b[0;34m]\u001b[0m\u001b[0;34m*\u001b[0m\u001b[0;36m26\u001b[0m\u001b[0;34m\u001b[0m\u001b[0;34m\u001b[0m\u001b[0m\n\u001b[1;32m     18\u001b[0m \u001b[0;34m\u001b[0m\u001b[0m\n",
      "\u001b[0;32m/usr/local/anaconda3/lib/python3.9/site-packages/ipykernel/kernelbase.py\u001b[0m in \u001b[0;36mraw_input\u001b[0;34m(self, prompt)\u001b[0m\n\u001b[1;32m   1175\u001b[0m                 \u001b[0;34m\"raw_input was called, but this frontend does not support input requests.\"\u001b[0m\u001b[0;34m\u001b[0m\u001b[0;34m\u001b[0m\u001b[0m\n\u001b[1;32m   1176\u001b[0m             )\n\u001b[0;32m-> 1177\u001b[0;31m         return self._input_request(\n\u001b[0m\u001b[1;32m   1178\u001b[0m             \u001b[0mstr\u001b[0m\u001b[0;34m(\u001b[0m\u001b[0mprompt\u001b[0m\u001b[0;34m)\u001b[0m\u001b[0;34m,\u001b[0m\u001b[0;34m\u001b[0m\u001b[0;34m\u001b[0m\u001b[0m\n\u001b[1;32m   1179\u001b[0m             \u001b[0mself\u001b[0m\u001b[0;34m.\u001b[0m\u001b[0m_parent_ident\u001b[0m\u001b[0;34m[\u001b[0m\u001b[0;34m\"shell\"\u001b[0m\u001b[0;34m]\u001b[0m\u001b[0;34m,\u001b[0m\u001b[0;34m\u001b[0m\u001b[0;34m\u001b[0m\u001b[0m\n",
      "\u001b[0;32m/usr/local/anaconda3/lib/python3.9/site-packages/ipykernel/kernelbase.py\u001b[0m in \u001b[0;36m_input_request\u001b[0;34m(self, prompt, ident, parent, password)\u001b[0m\n\u001b[1;32m   1217\u001b[0m             \u001b[0;32mexcept\u001b[0m \u001b[0mKeyboardInterrupt\u001b[0m\u001b[0;34m:\u001b[0m\u001b[0;34m\u001b[0m\u001b[0;34m\u001b[0m\u001b[0m\n\u001b[1;32m   1218\u001b[0m                 \u001b[0;31m# re-raise KeyboardInterrupt, to truncate traceback\u001b[0m\u001b[0;34m\u001b[0m\u001b[0;34m\u001b[0m\u001b[0m\n\u001b[0;32m-> 1219\u001b[0;31m                 \u001b[0;32mraise\u001b[0m \u001b[0mKeyboardInterrupt\u001b[0m\u001b[0;34m(\u001b[0m\u001b[0;34m\"Interrupted by user\"\u001b[0m\u001b[0;34m)\u001b[0m \u001b[0;32mfrom\u001b[0m \u001b[0;32mNone\u001b[0m\u001b[0;34m\u001b[0m\u001b[0;34m\u001b[0m\u001b[0m\n\u001b[0m\u001b[1;32m   1220\u001b[0m             \u001b[0;32mexcept\u001b[0m \u001b[0mException\u001b[0m\u001b[0;34m:\u001b[0m\u001b[0;34m\u001b[0m\u001b[0;34m\u001b[0m\u001b[0m\n\u001b[1;32m   1221\u001b[0m                 \u001b[0mself\u001b[0m\u001b[0;34m.\u001b[0m\u001b[0mlog\u001b[0m\u001b[0;34m.\u001b[0m\u001b[0mwarning\u001b[0m\u001b[0;34m(\u001b[0m\u001b[0;34m\"Invalid Message:\"\u001b[0m\u001b[0;34m,\u001b[0m \u001b[0mexc_info\u001b[0m\u001b[0;34m=\u001b[0m\u001b[0;32mTrue\u001b[0m\u001b[0;34m)\u001b[0m\u001b[0;34m\u001b[0m\u001b[0;34m\u001b[0m\u001b[0m\n",
      "\u001b[0;31mKeyboardInterrupt\u001b[0m: Interrupted by user"
     ]
    }
   ],
   "source": [
    "'''\n",
    "- 문제 유형: 구현, 문자열, 계수(정렬은 아님)\n",
    "- 풀이 방법: 알파벳의 등장 빈도를 기준으로 팰린드롬 여부를 판별하며, 알파멧 뒷 순서부터 가운데에서 바깥으로 붙여나가면 사전순으로 앞서는 문자를 만들 수 있다.\n",
    "- 풀이 순서\n",
    "1. 입력 받은 문자열을 순회하며 각 알파벳의 등장 빈도를 카운팅한다. -> O(n)\n",
    "2. 알파벳 빈도 배열을 역순으로 돌면서 문자열을 붙여준다. -> O(1)\n",
    "2-1. 가운데 기존 문자열을 두고 앞뒤로 절반씩 붙여준다.\n",
    "2-2. 등장 빈도가 홀수인 경우 가운데에 알파벳을 넣어준다.\n",
    "3. 등장 빈도가 홀수 개인 알파벳이 두 개 이상인 경우는 팰린드롬 수를 만들 수 없으므로 \"I'm Sorrry Hansoo\"를 출력한다.\n",
    "4. 그 외에는 정답을 출력한다.\n",
    "\n",
    "-> 시간 복잡도는 O(n)\n",
    "'''\n",
    "num_A = ord('A')\n",
    "print(num_A)\n",
    "s = input()\n",
    "alphabets = [0]*26 # [2, 2, 0, 0, 0, ...]\n",
    "\n",
    "for c in s:\n",
    "    alphabets[ord(c)%num_A] += 1 # 알파벳 등장 횟수 세기\n",
    "\n",
    "odd_cnt = 0\n",
    "answer = ''\n",
    "for i, a in enumerate(alphabets[::-1]): # 역순으로 돌기\n",
    "    c_char = chr(len(alphabets)-i-1+num_A)\n",
    "\n",
    "    \n",
    "    l = a//2\n",
    "    answer = l*c_char + answer + l*c_char\n",
    "    \n",
    "    # 길이가 홀수일 때\n",
    "    if a % 2 != 0:\n",
    "        odd_cnt += 1 # 홀수인 알파벳 카운팅\n",
    "        half = len(answer)//2\n",
    "        answer = answer[:half]+c_char+answer[half:] # 가운데 글자 끼우기\n",
    "\n",
    "if odd_cnt > 1: print(\"I'm Sorry Hansoo\")\n",
    "else: print(answer)"
   ]
  },
  {
   "cell_type": "markdown",
   "id": "873d8e27-d9b1-4a90-b308-ec2550692ef1",
   "metadata": {},
   "source": [
    "### 10. [선물](https://www.acmicpc.net/problem/1166)"
   ]
  },
  {
   "cell_type": "code",
   "execution_count": 50,
   "id": "cfc1269d-7468-4362-a222-56ecb5c15238",
   "metadata": {},
   "outputs": [
    {
     "name": "stdin",
     "output_type": "stream",
     "text": [
      " 77 146 523 229\n"
     ]
    },
    {
     "name": "stdout",
     "output_type": "stream",
     "text": [
      "61.00982331494058\n",
      "224.5\n"
     ]
    }
   ],
   "source": [
    "'''\n",
    "- 문제 유형: 구현 (조건이 까다로운 문제)\n",
    "- 풀이 방법: \n",
    "1. l*w*h 를 나눈 값은 부피이다.\n",
    "2. 이 부피를 n개의 정육면체로 채우므로 n으로 나눈 값은 하나의 정육면체의 부피이다.\n",
    "3. 정육면체의 부피는 한 변의 세제곱이므로, 한 변의 길이를 구하기 위해서는 세제곱근 값을 구한다.\n",
    "\n",
    "- 조건\n",
    "1. \n",
    "\n",
    "\n",
    "-> O(1)\n",
    "'''\n",
    "\n",
    "n, l, w, h = map(int, input().split())\n",
    "answer = (l*w*h/n)** (1/3) # 한 변의 길이\n",
    "\n",
    "# if min([l, w, h]) > answer*2 and l+w+h > answer*4:\n",
    "\n",
    "\n",
    "print(answer)\n",
    "print((l+w+h)/4)"
   ]
  },
  {
   "cell_type": "markdown",
   "id": "ff42b29b-4585-433c-ad1d-5f02b5ae36be",
   "metadata": {},
   "source": [
    "### 11. [한국이 그리울 땐 서버에 접속하지](https://www.acmicpc.net/problem/9996)"
   ]
  },
  {
   "cell_type": "code",
   "execution_count": 18,
   "id": "2660f7d9-61fe-4473-ab7b-6543ac3293f7",
   "metadata": {},
   "outputs": [
    {
     "name": "stdin",
     "output_type": "stream",
     "text": [
      " 1\n",
      " ab*bbb\n",
      " abbb\n"
     ]
    },
    {
     "name": "stdout",
     "output_type": "stream",
     "text": [
      "NE\n"
     ]
    }
   ],
   "source": [
    "'''\n",
    "- 문제 유형: 문자열\n",
    "- 풀이 방법\n",
    "1. 입력 받은 문자열에 대해 *을 기준으로 앞(front)과 뒤(back)를 추출한다.\n",
    "2. 맨 앞의 문자열이 front와 일치하고, 맨 뒤의 문자열이 back과 일치하면 DA를 출력한다.\n",
    "3. 그 외 NE를 출력한다.\n",
    "'''\n",
    "\n",
    "n = int(input())\n",
    "front, back = input().split('*')\n",
    "\n",
    "for _ in range(n):\n",
    "    text = input()\n",
    "    if len(front)+len(back) <= len(text) and text[:len(front)] == front and text[-len(back):] == back:\n",
    "        print(\"DA\")\n",
    "    else: print(\"NE\")"
   ]
  },
  {
   "cell_type": "markdown",
   "id": "b0661fae-001f-41f6-be19-03c680d98514",
   "metadata": {},
   "source": [
    "### 12. [저울](https://www.acmicpc.net/problem/2437)"
   ]
  },
  {
   "cell_type": "code",
   "execution_count": 8,
   "id": "8e6903a2-a08a-40ec-8817-7b166c1f80de",
   "metadata": {},
   "outputs": [
    {
     "name": "stdin",
     "output_type": "stream",
     "text": [
      " 7\n",
      " 3 1 6 2 7 30 1\n"
     ]
    },
    {
     "name": "stdout",
     "output_type": "stream",
     "text": [
      "21\n"
     ]
    }
   ],
   "source": [
    "'''\n",
    "입력 값 범위\n",
    "1. 저울추의 개수는 1~1000개 이하\n",
    "2. 저울추의 무게는 1~100만 이하 -> 계수 정렬 X\n",
    "-> 최대 10억?\n",
    "\n",
    "1. 작은 수부터 모든 수에 대해 계산해보면서 등장한 값은 메모하기\n",
    "2. 세 개 이상 값을 더할 때에는 이미 더한 값을 활용할 수는 없을까?\n",
    "\n",
    "이거는 진짜 정리 필요!!!!\n",
    "1 1 2 3 6 7 20\n",
    "2 3 5 8 14 21 \n",
    "'''\n",
    "\n",
    "n = int(input())\n",
    "weights = sorted(list(map(int, input().split())))\n",
    "\n",
    "limit = 1\n",
    "for weight in weights:\n",
    "    if limit < weight: break\n",
    "    else: limit += weight\n",
    "    \n",
    "print(limit)"
   ]
  },
  {
   "cell_type": "markdown",
   "id": "bdd9c123-4372-49a4-9a8d-99688b90e7b1",
   "metadata": {},
   "source": [
    "### 13. [섬의 개수](https://www.acmicpc.net/problem/4963)"
   ]
  },
  {
   "cell_type": "code",
   "execution_count": 44,
   "id": "e1727f38-6114-4dc0-ab96-db7e8ff142fb",
   "metadata": {},
   "outputs": [
    {
     "name": "stdin",
     "output_type": "stream",
     "text": [
      " 1 1\n",
      " 0\n"
     ]
    },
    {
     "name": "stdout",
     "output_type": "stream",
     "text": [
      "0\n"
     ]
    },
    {
     "name": "stdin",
     "output_type": "stream",
     "text": [
      " 2 2 \n",
      " 1 0\n",
      " 0 1\n"
     ]
    },
    {
     "name": "stdout",
     "output_type": "stream",
     "text": [
      "1\n"
     ]
    },
    {
     "name": "stdin",
     "output_type": "stream",
     "text": [
      " 3 2\n",
      " 1 1 1\n",
      " 1 1 1\n"
     ]
    },
    {
     "name": "stdout",
     "output_type": "stream",
     "text": [
      "1\n"
     ]
    },
    {
     "name": "stdin",
     "output_type": "stream",
     "text": [
      " 5 4\n",
      " 1 0 1 0 0\n",
      " 1 0 0 0 0\n",
      " 1 0 1 0 1\n",
      " 1 0 0 1 0\n"
     ]
    },
    {
     "name": "stdout",
     "output_type": "stream",
     "text": [
      "3\n"
     ]
    },
    {
     "name": "stdin",
     "output_type": "stream",
     "text": [
      " 5 4\n",
      " 1 1 1 0 1\n",
      " 1 0 1 0 1\n",
      " 1 0 1 0 1\n",
      " 1 0 1 1 1\n"
     ]
    },
    {
     "name": "stdout",
     "output_type": "stream",
     "text": [
      "1\n"
     ]
    },
    {
     "name": "stdin",
     "output_type": "stream",
     "text": [
      " 0 0\n"
     ]
    }
   ],
   "source": [
    "'''\n",
    "- 문제 유형: DFS\n",
    "- 풀이 방법: 배열에서 연결된 섬의 개수를 세는 것으로, DFS를 이용하여 한 섬의 최대 깊이까지 탐색한 후 독립된 섬의 개수를 센다.\n",
    "- 특이사항: 상하좌우 뿐만 아니라 대각선도 연결된 것으로 고려함.\n",
    "- 풀이 순서\n",
    "1. 배열을 돌면서 방문하지 않은 모든 섬(1)에 대해 DFS를 호출한다. \n",
    "1-1. DFS는 재귀 함수 형태로, 해당 위치 근처의 값들 중 방문하지 않은 섬이 있을 경우 재귀적으로 호출된다.\n",
    "1-2. 최대 깊이까지 방문하면서 visited 배열에 방문 처리를 해 준다.\n",
    "\n",
    "-> 시간 복잡도: O(n^2)\n",
    "배열에서 방문하지 않은 섬(1)에만 방문하므로 최대 배열의 크기만큼 반복하게 된다. 따라서 시간 복잡도는 O(n^2)가 된다.\n",
    "- \n",
    "'''\n",
    "\n",
    "def dfs(x, y, visited, w, h):\n",
    "    dirs = [[-1, -1], [-1, 0], [-1, 1],\n",
    "            [0, -1], [0, 1],\n",
    "            [1, -1], [1, 0], [1, 1]]\n",
    "    \n",
    "    visited[x][y] = True\n",
    "    for d in dirs:\n",
    "        nx, ny = x+d[0], y+d[1] # next step\n",
    "        if nx < 0 or nx >= h or ny < 0 or ny >= w: continue # 배열을 벗어나는 경우 제외\n",
    "        if not visited[nx][ny]:\n",
    "            dfs(nx, ny, visited, w, h)\n",
    "\n",
    "    return True\n",
    "    \n",
    "\n",
    "while True:\n",
    "    w, h = map(int, input().split())\n",
    "    if w == 0 and h == 0: break  # 정지 조건\n",
    "    \n",
    "    # 지도 입력 받기\n",
    "    user_map = []\n",
    "    for _ in range(h):\n",
    "        user_map.append(input().split())\n",
    "    \n",
    "    # 지도 좌표 돌면서 Land일 때 dfs 함수 호출\n",
    "    answer = 0\n",
    "    visited = [[True if x == '0' else False for x in line] for line in user_map] # Sea는 방문 처리\n",
    "    \n",
    "    for x in range(h):\n",
    "        for y in range(w):\n",
    "            if not visited[x][y]:\n",
    "                if dfs(x, y, visited, w, h): answer += 1\n",
    "    \n",
    "    # 정답 출력\n",
    "    print(answer)\n"
   ]
  },
  {
   "cell_type": "markdown",
   "id": "8808c945-dd9c-4c93-94f9-90c8c95d06b3",
   "metadata": {},
   "source": [
    "### 14. [쇠막대기](https://www.acmicpc.net/problem/10799)"
   ]
  },
  {
   "cell_type": "code",
   "execution_count": 3,
   "id": "c371089a-dc1c-4b8a-9a8a-0b15861b2efa",
   "metadata": {},
   "outputs": [
    {
     "name": "stdin",
     "output_type": "stream",
     "text": [
      " ()(((()())(())()))(())\n"
     ]
    },
    {
     "name": "stdout",
     "output_type": "stream",
     "text": [
      "prev stack: [0]\n",
      "stack: []\n",
      "len: 0\n",
      "prev stack: [2, 3, 4, 5]\n",
      "stack: [2, 3, 4]\n",
      "len: 3\n",
      "prev stack: [2, 3, 4, 7]\n",
      "stack: [2, 3, 4]\n",
      "len: 3\n",
      "prev stack: [2, 3, 4]\n",
      "prev stack: [2, 3, 10, 11]\n",
      "stack: [2, 3, 10]\n",
      "len: 3\n",
      "prev stack: [2, 3, 10]\n",
      "prev stack: [2, 3, 14]\n",
      "stack: [2, 3]\n",
      "len: 2\n",
      "prev stack: [2, 3]\n",
      "prev stack: [2]\n",
      "prev stack: [18, 19]\n",
      "stack: [18]\n",
      "len: 1\n",
      "prev stack: [18]\n",
      "17\n"
     ]
    }
   ],
   "source": [
    "'''\n",
    "- 문제 유형: 스택\n",
    "- 풀이 순서\n",
    "1. 현재 들어온 입력에 대해 파이프인지 레이저인지 판단한다.\n",
    "2. 만약 파이프라면 현재 파이프 개수를 1 증가시킨다.\n",
    "3. 만약 레이저라면 현재 파이프 개수만큼 정답 값에 더해준다.\n",
    "4. 위 과정을 반복한 후 최종적으로 몇 개의 파이프가 잘렸는지 판단해준다.\n",
    "'''\n",
    "s = input()\n",
    "stack = [] # 현재 겹쳐진 쇠 막대기의 개수\n",
    "answer = 0 # 최종적으로 잘려진 쇠 막대기의 개수\n",
    "\n",
    "for i, c in enumerate(s):\n",
    "    if c == '(': \n",
    "        stack.append(i)\n",
    "        answer += 1\n",
    "    else:\n",
    "        print('prev stack:', stack)\n",
    "        prev = stack.pop()\n",
    "        if prev == i-1: # 쇠 막대기일 때 (이전 인덱스가 여는 괄호일 때)\n",
    "            print('stack:', stack)\n",
    "            print('len:', len(stack))\n",
    "            answer = answer + len(stack) - 1 # 레이저 개수 1 제외\n",
    "    \n",
    "print(answer)"
   ]
  },
  {
   "cell_type": "code",
   "execution_count": 2,
   "id": "96abd216-8489-4a78-8623-36ca7fc3856a",
   "metadata": {},
   "outputs": [
    {
     "name": "stdin",
     "output_type": "stream",
     "text": [
      " (((()(()()))(())()))(()())\n"
     ]
    },
    {
     "name": "stdout",
     "output_type": "stream",
     "text": [
      "24\n"
     ]
    }
   ],
   "source": [
    "'''\n",
    "- 메모리 사용을 줄이기 위한 코드 개선 수행: 배열 사용 -> 정수형 변수 하나로 축소\n",
    "- list의 append, pop, len 메소드의 시간 복잡도는 O(1) 이므로 시간 효율성 측면에선 비슷\n",
    "- 코드 가독성은 일부 감소 But 큰 차이는 없는 것으로 보임\n",
    "'''\n",
    "s = input()\n",
    "current_pipes = 0 # 현재 겹쳐진 쇠 막대기 개수\n",
    "answer = 0 # 최종적으로 잘려진 쇠 막대기 개수\n",
    "\n",
    "for i, c in enumerate(s):\n",
    "    if c == '(': \n",
    "        current_pipes += 1\n",
    "        answer += 1\n",
    "    else:\n",
    "        current_pipes -= 1\n",
    "        if i != 0 and s[i-1] == '(': # 레이저인 경우\n",
    "            answer = answer + current_pipes - 1 # 레이저 개수 1 제외\n",
    "\n",
    "print(answer)"
   ]
  },
  {
   "cell_type": "markdown",
   "id": "d525634e-c833-4794-8ee4-04585e6fd2d2",
   "metadata": {},
   "source": [
    "### 15. [병든 나이트](https://www.acmicpc.net/problem/1783)"
   ]
  },
  {
   "cell_type": "code",
   "execution_count": null,
   "id": "f6e8628a-be3d-432b-a09f-ba8e511842e8",
   "metadata": {},
   "outputs": [],
   "source": [
    "'''\n",
    "[-2, 1], [-1, 2], [1, 2], [2, 1]\n",
    "'''\n",
    "h, w = map(int, input().split())\n",
    "\n"
   ]
  },
  {
   "cell_type": "markdown",
   "id": "2b4137c1-cc77-4693-b789-a643568a9d0b",
   "metadata": {},
   "source": [
    "### 16. [주유소](https://www.acmicpc.net/problem/13305)"
   ]
  },
  {
   "cell_type": "code",
   "execution_count": 6,
   "id": "bd2ae7b9-729b-42f2-abac-dc3309164672",
   "metadata": {},
   "outputs": [
    {
     "name": "stdin",
     "output_type": "stream",
     "text": [
      " 4\n",
      " 2 3 1\n",
      " 5 2 4 1\n"
     ]
    },
    {
     "name": "stdout",
     "output_type": "stream",
     "text": [
      "18\n"
     ]
    }
   ],
   "source": [
    "'''\n",
    "- 문제 유형: 그리디\n",
    "- 풀이 방법: 최저가로 값을 업데이트하며 총 비용을 더한다.\n",
    "'''\n",
    "n = int(input())\n",
    "distances = list(map(int, input().split()))\n",
    "oil_prices = list(map(int, input().split()))\n",
    "\n",
    "min_price = oil_prices[0]\n",
    "answer = 0\n",
    "for i in range(len(distances)):\n",
    "    answer += min_price*distances[i]\n",
    "    min_price = min(oil_prices[i+1], min_price)\n",
    "\n",
    "print(answer)"
   ]
  },
  {
   "cell_type": "markdown",
   "id": "1b09e435-6361-43fa-9857-55faa7b982ed",
   "metadata": {},
   "source": [
    "### 17. [바이러스](https://www.acmicpc.net/problem/2606)"
   ]
  },
  {
   "cell_type": "code",
   "execution_count": 34,
   "id": "4ce91b9b-2fe0-4c30-b77f-f3a06e5c141a",
   "metadata": {},
   "outputs": [
    {
     "name": "stdin",
     "output_type": "stream",
     "text": [
      " 7\n",
      " 5\n",
      " 5 6\n",
      " 7 2\n",
      " 1 3\n",
      " 4 2\n",
      " 3 2\n"
     ]
    },
    {
     "name": "stdout",
     "output_type": "stream",
     "text": [
      "4\n"
     ]
    }
   ],
   "source": [
    "'''\n",
    "- 문제 유형: DFS\n",
    "- 풀이 방법: 반복문을 이용한 DFS 구현, 방문 가능한 컴퓨터 개수 = 바이러스 걸릴 컴퓨터 개수\n",
    "- 풀이 순서\n",
    "1. 입력을 기반으로 인접 리스트 생성\n",
    "2. \n",
    "'''\n",
    "\n",
    "cnt_com = int(input())\n",
    "cnt_pair = int(input())\n",
    "\n",
    "adj_list = [[] for _ in range(cnt_com+1)] # 인접 리스트 (바로 접근을 위해 cnt_com+1 만큼 생성)\n",
    "for i in range(cnt_pair):\n",
    "    st, en = map(int, input().split())\n",
    "    adj_list[st].append(en) \n",
    "    adj_list[en].append(st) # 양방향 그래프!\n",
    "\n",
    "stack = [1] # 바이러스에 걸린 컴퓨터\n",
    "visited = [False]*(cnt_com+1) # visited: 방문 여부 저장 배열\n",
    "while stack:\n",
    "    c_node = stack.pop()\n",
    "    \n",
    "    for n_node in adj_list[c_node]:\n",
    "        if not visited[n_node]:\n",
    "            stack.append(n_node) # stack의 뒤에 방문하지 않은 인접 노드 추가\n",
    "            visited[n_node] = True\n",
    "\n",
    "print(sum(visited[2:]))\n"
   ]
  },
  {
   "cell_type": "markdown",
   "id": "feab5d0d-237e-4ec8-9a84-f9c850155e3b",
   "metadata": {},
   "source": [
    "### 18. [포도주 시식](https://www.acmicpc.net/problem/2156)"
   ]
  },
  {
   "cell_type": "code",
   "execution_count": null,
   "id": "946f5142-2124-4eef-9aad-d5e7932796bb",
   "metadata": {},
   "outputs": [],
   "source": [
    "'''\n",
    "- 문제 유형: \n",
    "- 풀이 방법: \n",
    "- 풀이 순서\n",
    "1. \n",
    "2. \n",
    "'''\n",
    "\n"
   ]
  },
  {
   "cell_type": "markdown",
   "id": "418226fc-58ed-4c42-b97a-4be4f635f982",
   "metadata": {},
   "source": [
    "### 19. [특정 거리의 도시 찾기](https://www.acmicpc.net/problem/18352)"
   ]
  },
  {
   "cell_type": "code",
   "execution_count": null,
   "id": "e79d6253-b892-4712-8e89-bbb24cc79f82",
   "metadata": {},
   "outputs": [],
   "source": [
    "'''\n",
    "- 문제 유형: \n",
    "- 풀이 방법: \n",
    "- 풀이 순서\n",
    "1. \n",
    "2. \n",
    "'''\n",
    "\n",
    "n, m, k, x = map(int, input().split())\n",
    "\n",
    "for _ in range(m):\n",
    "    a, b = map(int, input().split())\n",
    "    "
   ]
  },
  {
   "cell_type": "markdown",
   "id": "82dfc1f6-2231-4208-9046-acf238e67c49",
   "metadata": {},
   "source": [
    "### 20. [DFS와 BFS](https://www.acmicpc.net/problem/1260)"
   ]
  },
  {
   "cell_type": "code",
   "execution_count": 143,
   "id": "171fcb5e-8b82-4fad-b594-920a33542259",
   "metadata": {},
   "outputs": [
    {
     "name": "stdin",
     "output_type": "stream",
     "text": [
      " 1000 1 1000\n",
      " 999 1000\n"
     ]
    },
    {
     "name": "stdout",
     "output_type": "stream",
     "text": [
      "1000 999\n",
      "1000 999 \n"
     ]
    }
   ],
   "source": [
    "'''\n",
    "- 문제 유형: 그래프 탐색 (DFS, BFS)\n",
    "- 풀이 방법: 재귀를 사용하지 않고 DFS 구현하기 & BFS 구현하기\n",
    "- 주의: 단방향 그래프라고 명시하지 않는 경우 대부분 양방향 그래프를 의미함\n",
    "\n",
    "- 풀이 순서 1: DFS\n",
    "1. 인접 리스트를 구현한다. 인접 리스트는 가장 작은 값부터 순회하므로, 우선순위 큐를 이용한다.\n",
    "2. 스택에 시작 노드를 추가한다.\n",
    "3. 전체 그래프에서 시작 노드를 기준으로 인접 노드를 삽입/삭제하며 스택이 빌 때까지 탐색을 반복한다\n",
    "3-1. \"깊이 우선\" 탐색이므로 현재 노드(c_node)에서 방문하지 않은 가장 작은 노드(n_node)를 방문한다.\n",
    "3-2. 방문한 노드를 스택에 추가(append)한다.\n",
    "3-3. 방문하지 않은 인접 노드가 없을 때까지 3-1과 3-2를 반복한다.\n",
    "3-4. 만약 방문하지 않은 인접 노드가 없는 경우 스택에서 최상단에 있는 노드를 제거(pop)하고, 하위 노드를 고려한다.\n",
    "3-5. 스택이 비었다면 시작 노드를 기준으로 연결된 모든 노드를 탐색한 것이므로 반복문을 종료한다.\n",
    "\n",
    "- 풀이 순서 2: BFS\n",
    "'''\n",
    "\n",
    "from queue import PriorityQueue\n",
    "from collections import deque\n",
    "\n",
    "def dfs(v, adj_list):\n",
    "    answer = str(v)\n",
    "    c_node, stack = v, [v] # 시작 노드\n",
    "    \n",
    "    visited = [False]*(n+1) # 인덱스 직접 접근을 위해 +1\n",
    "    visited[v] = True\n",
    "\n",
    "    while stack:\n",
    "        while True:\n",
    "            # 방문하지 않은 인접 노드가 없는 경우\n",
    "            if adj_list[c_node].empty(): \n",
    "                stack.pop()\n",
    "                if stack: c_node = stack[-1]\n",
    "                break\n",
    "\n",
    "            n_node = adj_list[c_node].get()\n",
    "            if not visited[n_node]:\n",
    "                stack.append(n_node)\n",
    "                answer += f' {n_node}'\n",
    "                visited[n_node] = True\n",
    "                c_node = n_node\n",
    "                break\n",
    "                \n",
    "    return answer\n",
    "\n",
    "def bfs(v, adj_list):\n",
    "    answer = ''\n",
    "    que = deque([v])\n",
    "    \n",
    "    visited = [False]*(n+1) # 인덱스 직접 접근을 위해 +1\n",
    "    visited[v] = True\n",
    "\n",
    "    while que:\n",
    "        c_node = que.popleft()\n",
    "        answer += f'{c_node} '\n",
    "\n",
    "        while not adj_list[c_node].empty():\n",
    "            n_node = adj_list[c_node].get()\n",
    "            if not visited[n_node]: \n",
    "                que.append(n_node)\n",
    "                visited[n_node]=True\n",
    "    \n",
    "    return answer\n",
    "\n",
    "''' MAIN 구현부 '''\n",
    "\n",
    "n, m, v = map(int, input().split())\n",
    "\n",
    "# 우선순위 큐를 이용하여 가장 작은 노드부터 고려\n",
    "adj_list_bfs = [PriorityQueue(maxsize=n) for _ in range(n+1)] # 인덱스 직접 접근을 위해 +1\n",
    "adj_list_dfs = [PriorityQueue(maxsize=n) for _ in range(n+1)] # 인덱스 직접 접근을 위해 +1\n",
    "\n",
    "for _ in range(m):\n",
    "    st, en = map(int, input().split())\n",
    "    adj_list_bfs[st].put(en)\n",
    "    adj_list_bfs[en].put(st) # 양방향 그래프\n",
    "    adj_list_dfs[st].put(en)\n",
    "    adj_list_dfs[en].put(st) # 양방향 그래프\n",
    "\n",
    "\n",
    "print(dfs(v, adj_list_bfs))\n",
    "print(bfs(v, adj_list_dfs))\n"
   ]
  },
  {
   "cell_type": "code",
   "execution_count": 132,
   "id": "2912b161-f9b1-43ee-95af-4eba01664301",
   "metadata": {},
   "outputs": [
    {
     "name": "stdin",
     "output_type": "stream",
     "text": [
      " 5 5 1\n",
      " 1 2\n",
      " 1 3\n",
      " 2 4\n",
      " 4 3\n",
      " 4 5\n"
     ]
    },
    {
     "name": "stdout",
     "output_type": "stream",
     "text": [
      "n_node: 1\n",
      "stack: [1]\n",
      "visited: [False, True, False, False, False, False]\n",
      "n_node: 2\n",
      "stack: [1, 2]\n",
      "visited: [False, True, True, False, False, False]\n",
      "stack: [1, 2]\n",
      "visited: [False, True, True, False, False, False]\n",
      "n_node: 4\n",
      "stack: [1, 2, 4]\n",
      "visited: [False, True, True, False, True, False]\n",
      "stack: [1, 2, 4]\n",
      "visited: [False, True, True, False, True, False]\n",
      "n_node: 3\n",
      "stack: [1, 2, 4, 3]\n",
      "visited: [False, True, True, True, True, False]\n",
      "stack: [1, 2, 4, 3]\n",
      "visited: [False, True, True, True, True, False]\n",
      "stack: [1, 2, 4, 3]\n",
      "visited: [False, True, True, True, True, False]\n",
      "stack: [1, 2, 4]\n",
      "visited: [False, True, True, True, True, False]\n",
      "n_node: 5\n",
      "stack: [1, 2, 4, 5]\n",
      "visited: [False, True, True, True, True, True]\n",
      "stack: [1, 2, 4, 5]\n",
      "visited: [False, True, True, True, True, True]\n",
      "stack: [1, 2, 4]\n",
      "visited: [False, True, True, True, True, True]\n",
      "stack: [1, 2]\n",
      "visited: [False, True, True, True, True, True]\n",
      "stack: [1]\n",
      "visited: [False, True, True, True, True, True]\n",
      "stack: [1]\n",
      "visited: [False, True, True, True, True, True]\n"
     ]
    }
   ],
   "source": [
    "from queue import PriorityQueue\n",
    "from collections import deque\n",
    "\n",
    "n, m, v = map(int, input().split())\n",
    "\n",
    "# 우선순위 큐를 이용하여 가장 작은 노드부터 고려\n",
    "adj_list = [PriorityQueue(maxsize=n) for _ in range(n+1)] # 인덱스 직접 접근을 위해 +1\n",
    "\n",
    "for _ in range(m):\n",
    "    st, en = map(int, input().split())\n",
    "    adj_list[st].put(en)\n",
    "    adj_list[en].put(st) # 양방향 그래프\n",
    "\n",
    "visited = [False]*(n+1) # 인덱스 직접 접근을 위해 +1\n",
    "visited[v] = True\n",
    "\n",
    "c_node, stack = v, [v] # 시작 노드\n",
    "\n",
    "visited = [False]*(n+1) # 인덱스 직접 접근을 위해 +1\n",
    "visited[v] = True\n",
    "print('n_node:', v)\n",
    "\n",
    "while stack:\n",
    "    while True:\n",
    "        print('stack:', stack)\n",
    "        print('visited:', visited)\n",
    "        # 방문하지 않은 인접 노드가 없는 경우\n",
    "        if adj_list[c_node].empty(): \n",
    "            \n",
    "            stack.pop()\n",
    "            if stack: c_node = stack[-1]\n",
    "            break\n",
    "\n",
    "        n_node = adj_list[c_node].get()\n",
    "        if not visited[n_node]:\n",
    "            stack.append(n_node)\n",
    "            print('n_node:', n_node)\n",
    "            visited[n_node] = True\n",
    "            c_node = n_node\n",
    "            break\n",
    "\n",
    "\n"
   ]
  },
  {
   "cell_type": "code",
   "execution_count": null,
   "id": "682cdb16-7c5f-47b2-a946-d7875c80eda7",
   "metadata": {},
   "outputs": [],
   "source": []
  }
 ],
 "metadata": {
  "kernelspec": {
   "display_name": "Python 3 (ipykernel)",
   "language": "python",
   "name": "python3"
  },
  "language_info": {
   "codemirror_mode": {
    "name": "ipython",
    "version": 3
   },
   "file_extension": ".py",
   "mimetype": "text/x-python",
   "name": "python",
   "nbconvert_exporter": "python",
   "pygments_lexer": "ipython3",
   "version": "3.9.13"
  }
 },
 "nbformat": 4,
 "nbformat_minor": 5
}

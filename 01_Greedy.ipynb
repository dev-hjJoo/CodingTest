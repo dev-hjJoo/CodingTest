{
 "cells": [
  {
   "cell_type": "markdown",
   "id": "c7241fac-69d1-4395-8d93-8f70c1921910",
   "metadata": {},
   "source": [
    "# Greedy Algorithm"
   ]
  },
  {
   "cell_type": "markdown",
   "id": "df3dd1e0-46d6-47d1-9be0-30d770ef4248",
   "metadata": {},
   "source": [
    "### 1. 큰 수의 법칙\n",
    "n개의 값이 포함된 배열이 있을 때, 주어진 수를 m번 더하여 가장 큰 수를 만들어라.\n",
    "각 인덱스 값은 중복하여 더할 수 있으나, 연속 k번을 초과할 수 없다."
   ]
  },
  {
   "cell_type": "code",
   "execution_count": 1,
   "id": "5d4c2b02-d0c7-482a-949e-8ebc1dea18ba",
   "metadata": {},
   "outputs": [
    {
     "name": "stdin",
     "output_type": "stream",
     "text": [
      " 5 8 3\n",
      " 2 4 5 4 6\n"
     ]
    },
    {
     "name": "stdout",
     "output_type": "stream",
     "text": [
      "46\n"
     ]
    }
   ],
   "source": [
    "# O(n)\n",
    "n, m, k = map(int, input().split())\n",
    "arr = list(map(int, input().split()))\n",
    "arr.sort(reverse=True)\n",
    "\n",
    "answer = 0\n",
    "c = k\n",
    "while m > 0:\n",
    "    if c > 0:\n",
    "        c -= 1\n",
    "        answer += arr[0]\n",
    "    else:\n",
    "        c = k\n",
    "        answer += arr[1]\n",
    "    m -= 1\n",
    "print(answer)"
   ]
  },
  {
   "cell_type": "code",
   "execution_count": 2,
   "id": "62d20b56-1c3c-4d3b-ae97-862e0f6f1dd7",
   "metadata": {},
   "outputs": [
    {
     "name": "stdin",
     "output_type": "stream",
     "text": [
      " 5 8 3\n",
      " 2 4 5 4 6\n"
     ]
    },
    {
     "name": "stdout",
     "output_type": "stream",
     "text": [
      "46\n"
     ]
    }
   ],
   "source": [
    "# O(1)\n",
    "n, m, k = map(int, input().split())\n",
    "arr = list(map(int, input().split()))\n",
    "arr.sort(reverse=True)\n",
    "\n",
    "count = m //(k+1) * k + m%(k+1) # 가장 큰 수가 더해지는 횟수\n",
    "answer = arr[0]*count + arr[1]*(m-count)\n",
    "\n",
    "print(answer)"
   ]
  },
  {
   "cell_type": "code",
   "execution_count": null,
   "id": "dccb3dae-19b9-48b8-b102-7c057bae1e37",
   "metadata": {},
   "outputs": [],
   "source": []
  }
 ],
 "metadata": {
  "kernelspec": {
   "display_name": "Python 3 (ipykernel)",
   "language": "python",
   "name": "python3"
  },
  "language_info": {
   "codemirror_mode": {
    "name": "ipython",
    "version": 3
   },
   "file_extension": ".py",
   "mimetype": "text/x-python",
   "name": "python",
   "nbconvert_exporter": "python",
   "pygments_lexer": "ipython3",
   "version": "3.9.13"
  }
 },
 "nbformat": 4,
 "nbformat_minor": 5
}

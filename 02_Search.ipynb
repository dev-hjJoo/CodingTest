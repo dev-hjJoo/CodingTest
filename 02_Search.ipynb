{
 "cells": [
  {
   "cell_type": "markdown",
   "id": "993cc1ea-82c4-43f2-94b0-9cade347980b",
   "metadata": {},
   "source": [
    "# DFS (Depth-First Search)"
   ]
  },
  {
   "cell_type": "code",
   "execution_count": 1,
   "id": "279fdc03-451f-435f-9b3e-c3dd77e0806d",
   "metadata": {},
   "outputs": [
    {
     "name": "stdout",
     "output_type": "stream",
     "text": [
      "1 2 7 6 8 3 4 5 "
     ]
    }
   ],
   "source": [
    "# v: current node\n",
    "def dfs(graph, v, visited):\n",
    "    \n",
    "    # 1. 지나간 노드 방문 처리\n",
    "    visited[v] = True\n",
    "    print(v, end=' ')\n",
    "\n",
    "    # 2. 방문하지 않은 노드에 대해 다음 깊이 접근\n",
    "    for x in graph[v]:\n",
    "        if not visited[x]:\n",
    "            dfs(graph, x, visited)\n",
    "\n",
    "# graph: adjacency list\n",
    "graph = [\n",
    "    [],\n",
    "    [2, 3, 8],\n",
    "    [1, 7],\n",
    "    [1, 4, 5],\n",
    "    [3, 5],\n",
    "    [3, 4],\n",
    "    [7],\n",
    "    [2, 6, 8],\n",
    "    [1, 7]\n",
    "]\n",
    "visited = [False]*9\n",
    "\n",
    "dfs(graph, 1, visited)"
   ]
  },
  {
   "cell_type": "markdown",
   "id": "39b81a57-b556-4830-9b5b-63ccd3fca07b",
   "metadata": {},
   "source": [
    "# BFS (Breadth-First Search)"
   ]
  },
  {
   "cell_type": "code",
   "execution_count": 2,
   "id": "e2a7cb51-ec02-4bba-bd10-4277f67942e4",
   "metadata": {
    "tags": []
   },
   "outputs": [
    {
     "name": "stdout",
     "output_type": "stream",
     "text": [
      "1 2 3 8 7 4 5 6 "
     ]
    }
   ],
   "source": [
    "from collections import deque\n",
    "\n",
    "def bfs(graph, start, visited):\n",
    "    visited[start] = True\n",
    "    \n",
    "    # BFS 실행을 위한 큐 생성\n",
    "    q = deque([start])\n",
    "    \n",
    "    # 큐가 비어 있지 않은 경우 실행\n",
    "    while q:\n",
    "        v = q.popleft()\n",
    "        print(v, end=' ')\n",
    "        \n",
    "        for x in graph[v]:\n",
    "            # 현재 노드의 인접 노드 모두 큐에 추가\n",
    "            if not visited[x]:\n",
    "                q.append(x)\n",
    "                visited[x] = True\n",
    "        \n",
    "\n",
    "# graph: adjacency list\n",
    "graph = [\n",
    "    [],\n",
    "    [2, 3, 8],\n",
    "    [1, 7],\n",
    "    [1, 4, 5],\n",
    "    [3, 5],\n",
    "    [3, 4],\n",
    "    [7],\n",
    "    [2, 6, 8],\n",
    "    [1, 7]\n",
    "]\n",
    "visited = [False]*9\n",
    "\n",
    "bfs(graph, 1, visited)"
   ]
  },
  {
   "cell_type": "code",
   "execution_count": null,
   "id": "3ea55dd9-bf35-49a2-8d21-4bd1f37b685a",
   "metadata": {
    "jupyter": {
     "source_hidden": true
    },
    "tags": []
   },
   "outputs": [],
   "source": [
    "from collections import deque\n",
    "\n",
    "def bfs(graph, start, visited):\n",
    "    visited[start] = True\n",
    "    \n",
    "    # BFS 실행을 위한 큐 생성: 시작노드 추가\n",
    "    q = deque([start])\n",
    "    \n",
    "    while q:\n",
    "        v = q.popleft()\n",
    "        print(v, end=' ')\n",
    "        \n",
    "        for x in graph[v]:\n",
    "            if not visited[x]:\n",
    "                q.append(x)\n",
    "                visited[x] = True\n",
    "    \n",
    "    \n",
    "# graph: adjacency list\n",
    "graph = [\n",
    "    [],\n",
    "    [2, 3, 8],\n",
    "    [1, 7],\n",
    "    [1, 4, 5],\n",
    "    [3, 5],\n",
    "    [3, 4],\n",
    "    [7],\n",
    "    [2, 6, 8],\n",
    "    [1, 7]\n",
    "]\n",
    "visited = [False]*9\n",
    "\n",
    "bfs(graph, 1, visited)"
   ]
  }
 ],
 "metadata": {
  "kernelspec": {
   "display_name": "Python 3 (ipykernel)",
   "language": "python",
   "name": "python3"
  },
  "language_info": {
   "codemirror_mode": {
    "name": "ipython",
    "version": 3
   },
   "file_extension": ".py",
   "mimetype": "text/x-python",
   "name": "python",
   "nbconvert_exporter": "python",
   "pygments_lexer": "ipython3",
   "version": "3.9.13"
  }
 },
 "nbformat": 4,
 "nbformat_minor": 5
}

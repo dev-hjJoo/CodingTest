{
 "cells": [
  {
   "cell_type": "markdown",
   "id": "d3296c0e-0960-417b-9898-e991a1763434",
   "metadata": {},
   "source": [
    "### 1. [소수 구하기](https://www.acmicpc.net/problem/1929)"
   ]
  },
  {
   "cell_type": "code",
   "execution_count": 1,
   "id": "d9e685eb-402a-402a-aa78-0bbcfb01fb0e",
   "metadata": {},
   "outputs": [
    {
     "name": "stdin",
     "output_type": "stream",
     "text": [
      " 3 16\n"
     ]
    },
    {
     "name": "stdout",
     "output_type": "stream",
     "text": [
      "3\n",
      "5\n",
      "7\n",
      "11\n",
      "13\n"
     ]
    }
   ],
   "source": [
    "'''\n",
    "- 풀이 방법: 입력 값이 최대 100만까지 올 수 있으므로 값의 범위를 제곱까지만 고려하여 효율성을 고려하기\n",
    "- 풀이 순서\n",
    "1. m 이상 n 이하의 수 x에 대해서 소수 여부를 판단할 변수 isPrime을 정의한다.\n",
    "2. 이 때, isPrime이 1이면 소수가 아니므로 항상 False 값을 할당하고, 그 외에는 True를 할당한다. \n",
    "3. 2부터 x의 제곱근까지의 숫자를 순회하면서 x를 나누었을 때 나누어 떨어질 경우 isPrime을 False로 바꾼다. -> O(n ・ n^0.5)\n",
    "4. 만약 위 반복문 종료 후 isPrime이 여전히 True인 경우 x를 출력한다.\n",
    "\n",
    "-> 최종 시간 복잡도: O(n ・ n^0.5)\n",
    "'''\n",
    "m, n = map(int, input().split())\n",
    "\n",
    "for x in range(m, n+1):\n",
    "    isPrime = True if x != 1 else False\n",
    "    for i in range(2, int(x**0.5)+1):\n",
    "        if x % i == 0: isPrime = False\n",
    "    if isPrime: print(x)"
   ]
  },
  {
   "cell_type": "markdown",
   "id": "7bd78947-99e7-4bd7-ab90-d0b6afa85ec3",
   "metadata": {},
   "source": [
    "### 2. [피보나치 비스무리한 수열](https://www.acmicpc.net/problem/14495)"
   ]
  },
  {
   "cell_type": "code",
   "execution_count": 2,
   "id": "22fac644-5a0f-4901-a5a9-8272e176ac34",
   "metadata": {},
   "outputs": [
    {
     "name": "stdin",
     "output_type": "stream",
     "text": [
      " 10\n"
     ]
    },
    {
     "name": "stdout",
     "output_type": "stream",
     "text": [
      "19\n"
     ]
    }
   ],
   "source": [
    "'''\n",
    "- 풀이 방법: 입력 값의 범위가 크지 않아 빠르고 가독성 좋게 푸는 것이 Best\n",
    "- 풀이 순서\n",
    "1. 이전 값을 배열에 넣어 둔다. -> O(1)\n",
    "2. 4번째 값부터 n번째 값까지 순차적으로 값을 구한다 -> O(n)\n",
    "3. 마지막 값을 출력한다. -> O(1)\n",
    "\n",
    "-> 최종 시간 복잡도: O(n)\n",
    "'''\n",
    "n = int(input())\n",
    "\n",
    "answer = [0, 1, 1, 1]\n",
    "\n",
    "for i in range(4, n+1):\n",
    "    answer.append(answer[i-3]+answer[i-1])\n",
    "\n",
    "print(answer[-1])"
   ]
  },
  {
   "cell_type": "code",
   "execution_count": null,
   "id": "68dfed3b-143e-4eff-a9c8-a82808c39cc7",
   "metadata": {},
   "outputs": [],
   "source": []
  }
 ],
 "metadata": {
  "kernelspec": {
   "display_name": "Python 3 (ipykernel)",
   "language": "python",
   "name": "python3"
  },
  "language_info": {
   "codemirror_mode": {
    "name": "ipython",
    "version": 3
   },
   "file_extension": ".py",
   "mimetype": "text/x-python",
   "name": "python",
   "nbconvert_exporter": "python",
   "pygments_lexer": "ipython3",
   "version": "3.9.13"
  }
 },
 "nbformat": 4,
 "nbformat_minor": 5
}
